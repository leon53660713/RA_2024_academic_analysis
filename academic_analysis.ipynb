{
 "cells": [
  {
   "cell_type": "markdown",
   "id": "6d321f3e",
   "metadata": {},
   "source": [
    "# import package"
   ]
  },
  {
   "cell_type": "code",
   "execution_count": 1,
   "id": "23bea34c",
   "metadata": {
    "ExecuteTime": {
     "end_time": "2024-09-17T07:02:38.796013Z",
     "start_time": "2024-09-17T07:02:38.138742Z"
    }
   },
   "outputs": [],
   "source": [
    "# import package\n",
    "import pandas as pd"
   ]
  },
  {
   "cell_type": "markdown",
   "id": "4b013a44",
   "metadata": {},
   "source": [
    "# read file"
   ]
  },
  {
   "cell_type": "code",
   "execution_count": null,
   "id": "3949d408",
   "metadata": {
    "ExecuteTime": {
     "end_time": "2024-09-17T07:02:40.288342Z",
     "start_time": "2024-09-17T07:02:39.521856Z"
    },
    "code_folding": [],
    "collapsed": true
   },
   "outputs": [],
   "source": [
    "# read xlsx\n",
    "data = pd.read_excel(\"data.xlsx\", header=0)\n",
    "data"
   ]
  },
  {
   "cell_type": "code",
   "execution_count": null,
   "id": "571e1b8a",
   "metadata": {
    "ExecuteTime": {
     "end_time": "2024-09-17T07:02:41.174424Z",
     "start_time": "2024-09-17T07:02:41.139625Z"
    },
    "code_folding": [],
    "collapsed": true
   },
   "outputs": [],
   "source": [
    "# geyt yes\n",
    "yes = data[data.iloc[:, 6] == \"是 Yes\"]\n",
    "yes"
   ]
  },
  {
   "cell_type": "markdown",
   "id": "8db895bf",
   "metadata": {},
   "source": [
    "# clean data"
   ]
  },
  {
   "cell_type": "code",
   "execution_count": null,
   "id": "f3059ad1",
   "metadata": {
    "ExecuteTime": {
     "end_time": "2024-09-17T07:02:48.177460Z",
     "start_time": "2024-09-17T07:02:48.161827Z"
    },
    "code_folding": [],
    "collapsed": true
   },
   "outputs": [],
   "source": [
    "# find NA place\n",
    "na_indices = yes[yes.iloc[:, 1].isna()].index\n",
    "print(na_indices)\n",
    "# del NA col\n",
    "yes = yes.dropna(subset=[yes.columns[1]])"
   ]
  },
  {
   "cell_type": "code",
   "execution_count": null,
   "id": "5f02d8b3",
   "metadata": {
    "ExecuteTime": {
     "end_time": "2024-09-17T07:02:50.566300Z",
     "start_time": "2024-09-17T07:02:50.546264Z"
    },
    "code_folding": [],
    "collapsed": true
   },
   "outputs": [],
   "source": [
    "# keep independent\n",
    "yes = yes.drop_duplicates(subset=yes.columns[1], keep='last')\n",
    "yes"
   ]
  },
  {
   "cell_type": "code",
   "execution_count": 6,
   "id": "e3cd9f50",
   "metadata": {
    "ExecuteTime": {
     "end_time": "2024-09-17T07:02:52.930523Z",
     "start_time": "2024-09-17T07:02:52.912968Z"
    },
    "code_folding": []
   },
   "outputs": [
    {
     "name": "stdout",
     "output_type": "stream",
     "text": [
      "0\n",
      "0\n"
     ]
    }
   ],
   "source": [
    "# check, assume 0\n",
    "print(sum(yes.iloc[:, 1].value_counts()[yes.iloc[:, 1].value_counts() != 1]))\n",
    "print(yes.iloc[:, 1].isna().sum())"
   ]
  },
  {
   "cell_type": "markdown",
   "id": "f47904ce",
   "metadata": {},
   "source": [
    "# clean same Q"
   ]
  },
  {
   "cell_type": "code",
   "execution_count": 7,
   "id": "fc246ea9",
   "metadata": {
    "ExecuteTime": {
     "end_time": "2024-09-17T07:02:53.733151Z",
     "start_time": "2024-09-17T07:02:53.723479Z"
    }
   },
   "outputs": [],
   "source": [
    "# def func to merge col\n",
    "def merge_columns(row, cols):\n",
    "    values = [row[col] for col in cols]\n",
    "    non_na_values = [v for v in values if pd.notna(v)]\n",
    "    if len(non_na_values) == 1:\n",
    "        return non_na_values[0]\n",
    "    elif len(non_na_values) > 1 and len(set(non_na_values)) == 1:\n",
    "        # if NA>1, and val1==val2, return val1\n",
    "        return non_na_values[0]\n",
    "    else:\n",
    "        # if NA>1, and val1!=val2, return NA\n",
    "        return pd.NA"
   ]
  },
  {
   "cell_type": "code",
   "execution_count": null,
   "id": "a0742143",
   "metadata": {
    "ExecuteTime": {
     "end_time": "2024-09-17T07:02:59.284378Z",
     "start_time": "2024-09-17T07:02:59.186987Z"
    },
    "collapsed": true
   },
   "outputs": [],
   "source": [
    "# copy yes df\n",
    "yes_copy = yes.copy()\n",
    "\n",
    "# set groups to merge\n",
    "column_groups = [\n",
    "    [17, 27, 38],\n",
    "    [18, 28, 39],\n",
    "    [19, 29, 40],\n",
    "    [20, 30, 41],\n",
    "    [21, 31, 42],\n",
    "    [22, 32, 43],\n",
    "    [23, 33, 44],\n",
    "    [24, 34],\n",
    "    [25, 35, 45],\n",
    "    [26, 36, 46],\n",
    "    [37, 47]\n",
    "]\n",
    "\n",
    "# save every col to del & not merge count\n",
    "cols_to_drop = set()\n",
    "non_merged_count = 0\n",
    "\n",
    "# do every group of col\n",
    "for cols in column_groups:\n",
    "    # get col names\n",
    "    cols_names = [yes_copy.columns[i] for i in cols]\n",
    "    # create col name\n",
    "    merge_col_name = f'merged_{cols_names[0]}'\n",
    "    # save result to merged col\n",
    "    yes_copy[merge_col_name] = yes_copy.apply(\n",
    "        lambda row: merge_columns(row, cols_names), axis=1)\n",
    "    # count how many is NA\n",
    "    num_non_returned = yes_copy[merge_col_name].isna().sum()\n",
    "    non_merged_count += num_non_returned\n",
    "    # save to origin col\n",
    "    yes_copy[cols_names[0]] = yes_copy[merge_col_name]\n",
    "    # save cols to del\n",
    "    cols_to_drop.update(cols_names[1:])\n",
    "    cols_to_drop.add(merge_col_name)\n",
    "    # show result\n",
    "    print(\n",
    "        f\"Number of rows where more than one column had a value (not returned): {num_non_returned}\")\n",
    "\n",
    "# del same col\n",
    "yes_copy = yes_copy.drop(columns=list(cols_to_drop))\n",
    "# show\n",
    "yes_copy"
   ]
  },
  {
   "cell_type": "code",
   "execution_count": 9,
   "id": "64a7336a",
   "metadata": {
    "ExecuteTime": {
     "end_time": "2024-08-22T18:59:35.391149Z",
     "start_time": "2024-08-22T18:59:35.199532Z"
    }
   },
   "outputs": [],
   "source": [
    "# save to xlsx\n",
    "yes_copy.to_excel(\"yes_cleaned.xlsx\", index=False)"
   ]
  },
  {
   "cell_type": "markdown",
   "id": "f9d78564",
   "metadata": {},
   "source": [
    "# import new df"
   ]
  },
  {
   "cell_type": "code",
   "execution_count": null,
   "id": "a752f3f4",
   "metadata": {
    "ExecuteTime": {
     "end_time": "2024-09-17T07:03:04.940941Z",
     "start_time": "2024-09-17T07:03:04.833841Z"
    },
    "collapsed": true
   },
   "outputs": [],
   "source": [
    "cleaned_df = pd.read_excel('yes_cleaned.xlsx')\n",
    "cleaned_df.head()"
   ]
  },
  {
   "cell_type": "markdown",
   "id": "790f7732",
   "metadata": {},
   "source": [
    "# 表 11"
   ]
  },
  {
   "cell_type": "code",
   "execution_count": null,
   "id": "7b4d1a1c",
   "metadata": {
    "ExecuteTime": {
     "end_time": "2024-09-17T07:03:08.217445Z",
     "start_time": "2024-09-17T07:03:08.208948Z"
    }
   },
   "outputs": [],
   "source": [
    "# show col name to do\n",
    "col_name = cleaned_df.columns[14]\n",
    "print(col_name)"
   ]
  },
  {
   "cell_type": "code",
   "execution_count": null,
   "id": "4c28f4c5",
   "metadata": {
    "ExecuteTime": {
     "end_time": "2024-09-17T07:03:09.172146Z",
     "start_time": "2024-09-17T07:03:09.161622Z"
    }
   },
   "outputs": [],
   "source": [
    "# get val\n",
    "value_counts = cleaned_df[col_name].value_counts()\n",
    "value_counts"
   ]
  },
  {
   "cell_type": "markdown",
   "id": "ef42f69e",
   "metadata": {},
   "source": [
    "# 表 12"
   ]
  },
  {
   "cell_type": "code",
   "execution_count": null,
   "id": "7c29a792",
   "metadata": {
    "ExecuteTime": {
     "end_time": "2024-09-17T07:03:11.134880Z",
     "start_time": "2024-09-17T07:03:11.110612Z"
    }
   },
   "outputs": [],
   "source": [
    "# get col\n",
    "col_15_name = cleaned_df.columns[14]\n",
    "col_4_name = cleaned_df.columns[3]\n",
    "# create cross table\n",
    "crosstab_result = pd.crosstab(cleaned_df[col_15_name], cleaned_df[col_4_name])\n",
    "# show\n",
    "print(f\"Crosstab between '{col_15_name}' and '{col_4_name}':\")\n",
    "crosstab_result"
   ]
  },
  {
   "cell_type": "markdown",
   "id": "ca831fac",
   "metadata": {},
   "source": [
    "# 表 13"
   ]
  },
  {
   "cell_type": "code",
   "execution_count": null,
   "id": "8a972152",
   "metadata": {
    "ExecuteTime": {
     "end_time": "2024-09-17T07:03:25.332010Z",
     "start_time": "2024-09-17T07:03:25.316496Z"
    }
   },
   "outputs": [],
   "source": [
    "# get col\n",
    "col_16_name = cleaned_df.columns[15]\n",
    "# split by \",\" & change into series\n",
    "all_choices = cleaned_df[col_16_name].str.split(',').explode()\n",
    "# del \" \" in front & behind\n",
    "all_choices = all_choices.str.strip()\n",
    "# get counts\n",
    "choice_counts = all_choices.value_counts()\n",
    "# show\n",
    "print(f\"Value counts for the 16th column '{col_16_name}' (considering multiple selections):\")\n",
    "print(\"-\"*180)\n",
    "print(choice_counts)\n"
   ]
  },
  {
   "cell_type": "markdown",
   "id": "d5376b20",
   "metadata": {},
   "source": [
    "# 表 14"
   ]
  },
  {
   "cell_type": "code",
   "execution_count": null,
   "id": "297e642d",
   "metadata": {
    "ExecuteTime": {
     "end_time": "2024-08-23T14:31:32.471864Z",
     "start_time": "2024-08-23T14:31:32.452714Z"
    }
   },
   "outputs": [],
   "source": [
    "# get col\n",
    "col_17_name = cleaned_df.columns[16]\n",
    "# split by \",\" & change into series\n",
    "all_choices = cleaned_df[col_17_name].str.split(',').explode()\n",
    "# del \" \" in front & behind\n",
    "all_choices = all_choices.str.strip()\n",
    "# get counts\n",
    "choice_counts = all_choices.value_counts()\n",
    "# show\n",
    "print(f\"Value counts for the 16th column '{col_17_name}' (considering multiple selections):\")\n",
    "print(\"-\"*180)\n",
    "print(choice_counts)\n"
   ]
  },
  {
   "cell_type": "markdown",
   "id": "5279dabf",
   "metadata": {},
   "source": [
    "# 表 15"
   ]
  },
  {
   "cell_type": "code",
   "execution_count": null,
   "id": "e9f41a8b",
   "metadata": {
    "ExecuteTime": {
     "end_time": "2024-08-23T15:07:50.165857Z",
     "start_time": "2024-08-23T15:07:50.149789Z"
    },
    "code_folding": [],
    "collapsed": true
   },
   "outputs": [],
   "source": [
    "# get col\n",
    "col_15_name = cleaned_df.columns[14]\n",
    "# filter col == \"跨領域學分學程 Interdisciplinary Program\"\n",
    "filtered_df = cleaned_df[cleaned_df[col_15_name] == \"跨領域學分學程 Interdisciplinary Program\"]\n",
    "# get every questiom\n",
    "new_df_1 = filtered_df.iloc[:, list(range(18, 26))]\n",
    "# check\n",
    "new_df_1"
   ]
  },
  {
   "cell_type": "code",
   "execution_count": null,
   "id": "874ac982",
   "metadata": {
    "ExecuteTime": {
     "end_time": "2024-08-23T15:07:50.619551Z",
     "start_time": "2024-08-23T15:07:50.592207Z"
    },
    "code_folding": []
   },
   "outputs": [],
   "source": [
    "# def dict\n",
    "value_map = {\n",
    "    \"非常同意 Agree Strongly\": 5,\n",
    "    \"同意 Agree\": 4,\n",
    "    \"尚可 Tend to Agree\": 3,\n",
    "    \"不同意 Disagree\": 2,\n",
    "    \"非常不同意 Disagree Strongly\": 1\n",
    "}\n",
    "\n",
    "# get reverse col\n",
    "col_2_name = new_df_1.columns[1]\n",
    "# copy\n",
    "new_df_1_copy = new_df_1.copy()\n",
    "# do for only col 2\n",
    "if col_2_name in new_df_1_copy.columns:\n",
    "    # reverse\n",
    "    new_df_1_copy[col_2_name] = 6 - new_df_1_copy[col_2_name].map(value_map)\n",
    "\n",
    "# do map for other col\n",
    "for col in new_df_1_copy.columns:\n",
    "    if col != col_2_name:\n",
    "        new_df_1_copy[col] = new_df_1_copy[col].map(value_map)\n",
    "# check\n",
    "new_df_1_copy"
   ]
  },
  {
   "cell_type": "code",
   "execution_count": null,
   "id": "c3559d6f",
   "metadata": {
    "ExecuteTime": {
     "end_time": "2024-08-23T15:07:51.196402Z",
     "start_time": "2024-08-23T15:07:51.184376Z"
    },
    "code_folding": []
   },
   "outputs": [],
   "source": [
    "# count mean of every col\n",
    "col_means = new_df_1_copy.mean()\n",
    "col_means"
   ]
  },
  {
   "cell_type": "code",
   "execution_count": null,
   "id": "f2ad3aa4",
   "metadata": {
    "ExecuteTime": {
     "end_time": "2024-08-23T19:48:27.604394Z",
     "start_time": "2024-08-23T19:48:27.580939Z"
    },
    "code_folding": []
   },
   "outputs": [],
   "source": [
    "# get col\n",
    "col_15_name = cleaned_df.columns[14]\n",
    "# filter col == \"跨領域學分學程 Interdisciplinary Program\"\n",
    "filtered_df = cleaned_df[cleaned_df[col_15_name] == \"跨領域學分學程 Interdisciplinary Program\"]\n",
    "# get every question\n",
    "new_df_1 = filtered_df.iloc[:, list(range(26, 28))]\n",
    "# check\n",
    "new_df_1"
   ]
  },
  {
   "cell_type": "code",
   "execution_count": null,
   "id": "0468bd90",
   "metadata": {
    "ExecuteTime": {
     "end_time": "2024-08-23T19:48:22.582656Z",
     "start_time": "2024-08-23T19:48:22.567362Z"
    },
    "code_folding": []
   },
   "outputs": [],
   "source": [
    "# copy\n",
    "new_df_1_copy = new_df_1.copy()\n",
    "# get col\n",
    "col_26_name = new_df_1_copy.columns[0]\n",
    "# split by \",\" & change into series\n",
    "all_choices = new_df_1_copy[col_26_name].str.split(',').explode()\n",
    "# del \" \" in front & behind\n",
    "all_choices = all_choices.str.strip()\n",
    "# get counts\n",
    "choice_counts = all_choices.value_counts()\n",
    "# show\n",
    "print(choice_counts)\n"
   ]
  },
  {
   "cell_type": "markdown",
   "id": "204426b0",
   "metadata": {},
   "source": [
    "# 表 16"
   ]
  },
  {
   "cell_type": "code",
   "execution_count": null,
   "id": "36dbbbdc",
   "metadata": {
    "ExecuteTime": {
     "end_time": "2024-08-23T19:38:07.374011Z",
     "start_time": "2024-08-23T19:38:07.345429Z"
    },
    "code_folding": []
   },
   "outputs": [],
   "source": [
    "# get col\n",
    "col_15_name = cleaned_df.columns[14]\n",
    "# filter col == \"跨領域學分學程 Interdisciplinary Program\"\n",
    "filtered_df = cleaned_df[cleaned_df[col_15_name] == \"跨領域微學程 Interdisciplinary Micro-program\"]\n",
    "# get every questiom\n",
    "new_df_1 = filtered_df.iloc[:, list(range(18, 26))]\n",
    "# check\n",
    "new_df_1"
   ]
  },
  {
   "cell_type": "code",
   "execution_count": null,
   "id": "004948db",
   "metadata": {
    "ExecuteTime": {
     "end_time": "2024-08-23T19:38:33.579006Z",
     "start_time": "2024-08-23T19:38:33.556676Z"
    },
    "code_folding": [
     0
    ]
   },
   "outputs": [],
   "source": [
    "# def dict\n",
    "value_map = {\n",
    "    \"非常同意 Agree Strongly\": 5,\n",
    "    \"同意 Agree\": 4,\n",
    "    \"尚可 Tend to Agree\": 3,\n",
    "    \"不同意 Disagree\": 2,\n",
    "    \"非常不同意 Disagree Strongly\": 1\n",
    "}\n",
    "\n",
    "# get reverse col\n",
    "col_2_name = new_df_1.columns[1]\n",
    "# copy\n",
    "new_df_1_copy = new_df_1.copy()\n",
    "# do for only col 2\n",
    "if col_2_name in new_df_1_copy.columns:\n",
    "    # reverse\n",
    "    new_df_1_copy[col_2_name] = 6 - new_df_1_copy[col_2_name].map(value_map)\n",
    "\n",
    "# do map for other col\n",
    "for col in new_df_1_copy.columns:\n",
    "    if col != col_2_name:\n",
    "        new_df_1_copy[col] = new_df_1_copy[col].map(value_map)\n",
    "# check\n",
    "new_df_1_copy"
   ]
  },
  {
   "cell_type": "code",
   "execution_count": null,
   "id": "ff2e0931",
   "metadata": {
    "ExecuteTime": {
     "end_time": "2024-08-23T19:39:15.760275Z",
     "start_time": "2024-08-23T19:39:15.746727Z"
    },
    "code_folding": [
     0
    ]
   },
   "outputs": [],
   "source": [
    "# count mean of every col\n",
    "col_means = new_df_1_copy.mean()\n",
    "col_means"
   ]
  },
  {
   "cell_type": "code",
   "execution_count": null,
   "id": "24cead93",
   "metadata": {
    "ExecuteTime": {
     "end_time": "2024-08-23T19:51:15.120255Z",
     "start_time": "2024-08-23T19:51:15.099678Z"
    },
    "code_folding": [
     0
    ]
   },
   "outputs": [],
   "source": [
    "# get col\n",
    "col_15_name = cleaned_df.columns[14]\n",
    "# filter col == \"跨領域學分學程 Interdisciplinary Program\"\n",
    "filtered_df = cleaned_df[cleaned_df[col_15_name] == \"跨領域微學程 Interdisciplinary Micro-program\"]\n",
    "# get every questiom\n",
    "new_df_1 = filtered_df.iloc[:, list(range(26, 28))]\n",
    "# check\n",
    "new_df_1"
   ]
  },
  {
   "cell_type": "code",
   "execution_count": null,
   "id": "3e1fee7a",
   "metadata": {
    "ExecuteTime": {
     "end_time": "2024-08-23T19:51:26.574436Z",
     "start_time": "2024-08-23T19:51:26.555505Z"
    },
    "code_folding": [
     0
    ]
   },
   "outputs": [],
   "source": [
    "# copy\n",
    "new_df_1_copy = new_df_1.copy()\n",
    "# get col\n",
    "col_26_name = new_df_1_copy.columns[0]\n",
    "# split by \",\" & change into series\n",
    "all_choices = new_df_1_copy[col_26_name].str.split(',').explode()\n",
    "# del \" \" in front & behind\n",
    "all_choices = all_choices.str.strip()\n",
    "# get counts\n",
    "choice_counts = all_choices.value_counts()\n",
    "# show\n",
    "print(choice_counts)\n"
   ]
  },
  {
   "cell_type": "code",
   "execution_count": null,
   "id": "49365f65",
   "metadata": {
    "ExecuteTime": {
     "end_time": "2024-08-23T19:51:33.166448Z",
     "start_time": "2024-08-23T19:51:33.158442Z"
    },
    "code_folding": [
     0
    ]
   },
   "outputs": [],
   "source": [
    "# copy\n",
    "new_df_1_copy = new_df_1.copy()\n",
    "# get col\n",
    "col_26_name = new_df_1_copy.columns[1]\n",
    "# split by \",\" & change into series\n",
    "all_choices = new_df_1_copy[col_26_name].str.split(',').explode()\n",
    "# del \" \" in front & behind\n",
    "all_choices = all_choices.str.strip()\n",
    "# get counts\n",
    "choice_counts = all_choices.value_counts()\n",
    "# show\n",
    "print(choice_counts)\n"
   ]
  },
  {
   "cell_type": "markdown",
   "id": "9bca8e05",
   "metadata": {},
   "source": [
    "# 表 17"
   ]
  },
  {
   "cell_type": "code",
   "execution_count": null,
   "id": "2454f275",
   "metadata": {
    "ExecuteTime": {
     "end_time": "2024-08-23T20:00:25.814752Z",
     "start_time": "2024-08-23T20:00:25.796840Z"
    },
    "code_folding": [
     0
    ],
    "collapsed": true
   },
   "outputs": [],
   "source": [
    "# get col\n",
    "col_15_name = cleaned_df.columns[14]\n",
    "# filter col == \"跨領域學分學程 Interdisciplinary Program\"\n",
    "filtered_df = cleaned_df[cleaned_df[col_15_name] == \"單一領域微學程 Non-interdisciplinary  Micro-program\"]\n",
    "# get every questiom\n",
    "new_df_1 = filtered_df.iloc[:, list(range(18, 26))]\n",
    "# check\n",
    "new_df_1.shape"
   ]
  },
  {
   "cell_type": "code",
   "execution_count": null,
   "id": "593d938b",
   "metadata": {
    "ExecuteTime": {
     "end_time": "2024-08-23T20:00:46.071493Z",
     "start_time": "2024-08-23T20:00:46.047546Z"
    },
    "code_folding": [
     0
    ],
    "collapsed": true
   },
   "outputs": [],
   "source": [
    "# def dict\n",
    "value_map = {\n",
    "    \"非常同意 Agree Strongly\": 5,\n",
    "    \"同意 Agree\": 4,\n",
    "    \"尚可 Tend to Agree\": 3,\n",
    "    \"不同意 Disagree\": 2,\n",
    "    \"非常不同意 Disagree Strongly\": 1\n",
    "}\n",
    "\n",
    "# get reverse col\n",
    "col_2_name = new_df_1.columns[1]\n",
    "# copy\n",
    "new_df_1_copy = new_df_1.copy()\n",
    "# do for only col 2\n",
    "if col_2_name in new_df_1_copy.columns:\n",
    "    # reverse\n",
    "    new_df_1_copy[col_2_name] = 6 - new_df_1_copy[col_2_name].map(value_map)\n",
    "\n",
    "# do map for other col\n",
    "for col in new_df_1_copy.columns:\n",
    "    if col != col_2_name:\n",
    "        new_df_1_copy[col] = new_df_1_copy[col].map(value_map)\n",
    "# check\n",
    "new_df_1_copy"
   ]
  },
  {
   "cell_type": "code",
   "execution_count": null,
   "id": "22436624",
   "metadata": {
    "ExecuteTime": {
     "end_time": "2024-08-23T20:00:54.056957Z",
     "start_time": "2024-08-23T20:00:54.038072Z"
    },
    "code_folding": [
     0
    ],
    "collapsed": true
   },
   "outputs": [],
   "source": [
    "# count mean of every col\n",
    "col_means = new_df_1_copy.mean()\n",
    "col_means"
   ]
  },
  {
   "cell_type": "code",
   "execution_count": null,
   "id": "c71a15c9",
   "metadata": {
    "ExecuteTime": {
     "end_time": "2024-08-23T20:02:52.954937Z",
     "start_time": "2024-08-23T20:02:52.947963Z"
    },
    "code_folding": [
     0
    ],
    "collapsed": true
   },
   "outputs": [],
   "source": [
    "# get col\n",
    "col_15_name = cleaned_df.columns[14]\n",
    "# filter col == \"跨領域學分學程 Interdisciplinary Program\"\n",
    "filtered_df = cleaned_df[cleaned_df[col_15_name] == \"單一領域微學程 Non-interdisciplinary  Micro-program\"]\n",
    "# get every questiom\n",
    "new_df_1 = filtered_df.iloc[:, list(range(26, 28))]\n",
    "# check\n",
    "new_df_1.shape"
   ]
  },
  {
   "cell_type": "code",
   "execution_count": null,
   "id": "304779d6",
   "metadata": {
    "ExecuteTime": {
     "end_time": "2024-08-23T20:03:01.983584Z",
     "start_time": "2024-08-23T20:03:01.968686Z"
    }
   },
   "outputs": [],
   "source": [
    "# copy\n",
    "new_df_1_copy = new_df_1.copy()\n",
    "# get col\n",
    "col_26_name = new_df_1_copy.columns[0]\n",
    "# split by \",\" & change into series\n",
    "all_choices = new_df_1_copy[col_26_name].str.split(',').explode()\n",
    "# del \" \" in front & behind\n",
    "all_choices = all_choices.str.strip()\n",
    "# get counts\n",
    "choice_counts = all_choices.value_counts()\n",
    "# show\n",
    "print(choice_counts)\n"
   ]
  },
  {
   "cell_type": "code",
   "execution_count": null,
   "id": "cf12b0eb",
   "metadata": {
    "ExecuteTime": {
     "end_time": "2024-08-23T20:03:07.282942Z",
     "start_time": "2024-08-23T20:03:07.275602Z"
    },
    "code_folding": [
     0
    ]
   },
   "outputs": [],
   "source": [
    "# copy\n",
    "new_df_1_copy = new_df_1.copy()\n",
    "# get col\n",
    "col_26_name = new_df_1_copy.columns[1]\n",
    "# split by \",\" & change into series\n",
    "all_choices = new_df_1_copy[col_26_name].str.split(',').explode()\n",
    "# del \" \" in front & behind\n",
    "all_choices = all_choices.str.strip()\n",
    "# get counts\n",
    "choice_counts = all_choices.value_counts()\n",
    "# show\n",
    "print(choice_counts)\n"
   ]
  },
  {
   "cell_type": "code",
   "execution_count": null,
   "id": "c20725d3",
   "metadata": {},
   "outputs": [],
   "source": []
  }
 ],
 "metadata": {
  "kernelspec": {
   "display_name": "Python 3 (ipykernel)",
   "language": "python",
   "name": "python3"
  },
  "language_info": {
   "codemirror_mode": {
    "name": "ipython",
    "version": 3
   },
   "file_extension": ".py",
   "mimetype": "text/x-python",
   "name": "python",
   "nbconvert_exporter": "python",
   "pygments_lexer": "ipython3",
   "version": "3.9.12"
  },
  "latex_envs": {
   "LaTeX_envs_menu_present": true,
   "autoclose": false,
   "autocomplete": true,
   "bibliofile": "biblio.bib",
   "cite_by": "apalike",
   "current_citInitial": 1,
   "eqLabelWithNumbers": true,
   "eqNumInitial": 1,
   "hotkeys": {
    "equation": "Ctrl-E",
    "itemize": "Ctrl-I"
   },
   "labels_anchors": false,
   "latex_user_defs": false,
   "report_style_numbering": false,
   "user_envs_cfg": false
  },
  "toc": {
   "base_numbering": 1,
   "nav_menu": {},
   "number_sections": true,
   "sideBar": true,
   "skip_h1_title": false,
   "title_cell": "Table of Contents",
   "title_sidebar": "Contents",
   "toc_cell": false,
   "toc_position": {},
   "toc_section_display": true,
   "toc_window_display": true
  },
  "varInspector": {
   "cols": {
    "lenName": 16,
    "lenType": 16,
    "lenVar": 40
   },
   "kernels_config": {
    "python": {
     "delete_cmd_postfix": "",
     "delete_cmd_prefix": "del ",
     "library": "var_list.py",
     "varRefreshCmd": "print(var_dic_list())"
    },
    "r": {
     "delete_cmd_postfix": ") ",
     "delete_cmd_prefix": "rm(",
     "library": "var_list.r",
     "varRefreshCmd": "cat(var_dic_list()) "
    }
   },
   "types_to_exclude": [
    "module",
    "function",
    "builtin_function_or_method",
    "instance",
    "_Feature"
   ],
   "window_display": false
  }
 },
 "nbformat": 4,
 "nbformat_minor": 5
}
